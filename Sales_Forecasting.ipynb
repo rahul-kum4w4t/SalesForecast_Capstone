{
 "cells": [
  {
   "cell_type": "markdown",
   "id": "aae33521",
   "metadata": {},
   "source": [
    "# Sales Forecasting - Capstone Project"
   ]
  },
  {
   "cell_type": "markdown",
   "id": "93a4b482",
   "metadata": {},
   "source": [
    "## Problem Statement\n",
    "\n",
    "Rossmann is a European drug distributor which operates over 3,000 drug stores across seven European countries. Since a lot of drugs come with a short shelf life, that is, they do not have a long expiry date, it becomes imperative for Rossmann to accurately forecast sales at their individual stores. Currently, the forecasting is taken care of by the store managers who are tasked with forecasting daily sales for the next six weeks. \n",
    " \n",
    "As expected, store sales are influenced by many factors, including promotional campaigns, competition, state holidays, seasonality, and locality.\n",
    " \n",
    "With thousands of individual managers predicting sales based on their unique circumstances and intuitions, the accuracy of the forecasts is quite varied. To overcome this problem, the company has hired you as a data scientist to work on the forecasting problem. As part of your job role, you are tasked with building a forecasting model to forecast the daily sales for the next six weeks. To help you with the same, you have been provided with historical sales data for 1,115 Rossmann stores."
   ]
  },
  {
   "cell_type": "markdown",
   "id": "10ad3a97",
   "metadata": {},
   "source": [
    "### Data definition\n",
    "\n",
    "The data is provided in two tables, stores and train. The store table contains the metadata for every single store including the following:\n",
    " \n",
    "__Store__ - an Id that represents the store<br>\n",
    "__StoreType__ - differentiates between 4 different store models: a, b, c, d<br>\n",
    "__Assortment__ - describes an assortment level: a = basic, b = extra, c = extended<br>\n",
    "__CompetitionDistance__ - describes thedistance in meters to the nearest competitor store<br>\n",
    "__CompetitionOpenSince__[Month/Year] - gives the approximate year and month of the time the nearest competitor was opened<br>\n",
    "__Promo2__ - Promo2 is a continuing and consecutive promotion for some stores: 0 = store is not participating, 1 = store is participating<br>\n",
    "__Promo2Since__[Year/Week] - describes the year and calendar week when the store started participating in Promo2<br>\n",
    "__PromoInterval__ - describes the consecutive intervals Promo2 is started, naming the months the promotion is started anew. E.g. \"Feb, May, Aug, Nov\" means each round starts in February, May, August, November of any given year for that store<br>\n",
    "<br>\n",
    "The train table contains the sales data for individual stores at a daily level along with the details about the day<br>\n",
    "<br>\n",
    "__Store__ - a unique Id for each store<br>\n",
    "__DayOfWeek__ - Describes the day of the week (1 - Monday till 7 - Sunday)<br>\n",
    "__Date__ - Describes the date on the day<br>\n",
    "__Sales__ - the turnover for any given day (this is what you are forecasting)<br>\n",
    "__Customers__ - the number of customers on a given day<br>\n",
    "__Open__ - an indicator for whether the store was open: 0 = closed, 1 = open<br>\n",
    "__StateHoliday__ - indicates a state holiday. Normally all stores, with few exceptions, are closed on state holidays. Note that all schools are closed on public holidays and weekends. a = public holiday, b = Easter holiday, c = Christmas, 0 = None<br>\n",
    "__SchoolHoliday__ - indicates if the (Store, Date) was affected by the closure of public schools<br>\n",
    "<br>\n",
    "Since the company is just embarking on this project, the scope has been kept to nine key stores across Europe. The stores are key for the company keeping in mind the revenue and historical prestige associated with them. These stores are numbered - 1,3,8,9,13,25,29,31 and 46.<br>\n",
    "<br> \n",
    "While attempting to forecast sales, it is advisable to keep the following question in mind.<br>\n",
    "<br> \n",
    "* Is the sales data non-stationary? If so, how do you find it and correct it?\n",
    "* Is the data cointegrated? Which variables are cointegrated and how do you find them?\n",
    "* What is the impact of the number of customers on sales?\n",
    "* What is the impact of promo and promo2 variables on sales? How do you measure it?\n",
    "* Forecast sales for the next 6 weeks? Report the accuracy of the model using MAPE.\n",
    "<br>\n",
    "<br>While you are solving the problem, the following steps can be used as a reference. Please note that you can take a different approach as well.<br>\n",
    "<br> \n",
    "* Find outliers at the 99th percentile and remove them.\n",
    "* Standardize the sales and number of customers variables before modelling.\n",
    "* Determine if the data is stationary\n",
    "* If stationary then apply Vector Autoregression Model.\n",
    "* If non-stationary then specify the model in differences\n",
    "* Make sales, promo2 and any other variables you think of as dependent variables.\n",
    "* Check for cointegration using the Johansen test. \n",
    "* Predict sales for the next 6 weeks."
   ]
  },
  {
   "cell_type": "markdown",
   "id": "e645e611",
   "metadata": {},
   "source": [
    "### import libraries and dependencies"
   ]
  },
  {
   "cell_type": "code",
   "execution_count": 6,
   "id": "9ccd036f",
   "metadata": {},
   "outputs": [],
   "source": [
    "import numpy as np\n",
    "import pandas as pd\n",
    "import matplotlib.pyplot as plt\n",
    "\n",
    "import warnings\n",
    "warnings.filterwarnings('ignore')"
   ]
  },
  {
   "cell_type": "code",
   "execution_count": 7,
   "id": "951865a8",
   "metadata": {},
   "outputs": [],
   "source": [
    "store_data = pd.read_csv('store.csv')\n",
    "sales_data = pd.read_csv('train.csv')"
   ]
  },
  {
   "cell_type": "code",
   "execution_count": 11,
   "id": "73571c7d",
   "metadata": {},
   "outputs": [
    {
     "name": "stdout",
     "output_type": "stream",
     "text": [
      "Store data rows 1115 and columns 10.\n",
      "Store Sales data rows 1017209 and columns 9.\n"
     ]
    }
   ],
   "source": [
    "print('Store data rows %d and columns %d.' % store_data.shape)\n",
    "print('Store Sales data rows %d and columns %d.' % sales_data.shape)"
   ]
  },
  {
   "cell_type": "code",
   "execution_count": 12,
   "id": "09cd775b",
   "metadata": {},
   "outputs": [
    {
     "name": "stdout",
     "output_type": "stream",
     "text": [
      "<class 'pandas.core.frame.DataFrame'>\n",
      "RangeIndex: 1115 entries, 0 to 1114\n",
      "Data columns (total 10 columns):\n",
      " #   Column                     Non-Null Count  Dtype  \n",
      "---  ------                     --------------  -----  \n",
      " 0   Store                      1115 non-null   int64  \n",
      " 1   StoreType                  1115 non-null   object \n",
      " 2   Assortment                 1115 non-null   object \n",
      " 3   CompetitionDistance        1112 non-null   float64\n",
      " 4   CompetitionOpenSinceMonth  761 non-null    float64\n",
      " 5   CompetitionOpenSinceYear   761 non-null    float64\n",
      " 6   Promo2                     1115 non-null   int64  \n",
      " 7   Promo2SinceWeek            571 non-null    float64\n",
      " 8   Promo2SinceYear            571 non-null    float64\n",
      " 9   PromoInterval              571 non-null    object \n",
      "dtypes: float64(5), int64(2), object(3)\n",
      "memory usage: 87.2+ KB\n"
     ]
    }
   ],
   "source": [
    "store_data.info()"
   ]
  },
  {
   "cell_type": "code",
   "execution_count": 13,
   "id": "6af9dcf6",
   "metadata": {},
   "outputs": [
    {
     "name": "stdout",
     "output_type": "stream",
     "text": [
      "<class 'pandas.core.frame.DataFrame'>\n",
      "RangeIndex: 1017209 entries, 0 to 1017208\n",
      "Data columns (total 9 columns):\n",
      " #   Column         Non-Null Count    Dtype \n",
      "---  ------         --------------    ----- \n",
      " 0   Store          1017209 non-null  int64 \n",
      " 1   DayOfWeek      1017209 non-null  int64 \n",
      " 2   Date           1017209 non-null  object\n",
      " 3   Sales          1017209 non-null  int64 \n",
      " 4   Customers      1017209 non-null  int64 \n",
      " 5   Open           1017209 non-null  int64 \n",
      " 6   Promo          1017209 non-null  int64 \n",
      " 7   StateHoliday   1017209 non-null  object\n",
      " 8   SchoolHoliday  1017209 non-null  int64 \n",
      "dtypes: int64(7), object(2)\n",
      "memory usage: 69.8+ MB\n"
     ]
    }
   ],
   "source": [
    "sales_data.info()"
   ]
  },
  {
   "cell_type": "markdown",
   "id": "7d86ee56",
   "metadata": {},
   "source": [
    "__No null values present in the sales data.__"
   ]
  },
  {
   "cell_type": "markdown",
   "id": "49288d43",
   "metadata": {},
   "source": [
    "### Converting all the dates from object to datetime"
   ]
  },
  {
   "cell_type": "code",
   "execution_count": 16,
   "id": "d870e902",
   "metadata": {},
   "outputs": [],
   "source": [
    "sales_data['Date'] = pd.to_datetime(sales_data.Date)"
   ]
  },
  {
   "cell_type": "code",
   "execution_count": 17,
   "id": "a5ece7ad",
   "metadata": {},
   "outputs": [
    {
     "name": "stdout",
     "output_type": "stream",
     "text": [
      "<class 'pandas.core.frame.DataFrame'>\n",
      "RangeIndex: 1017209 entries, 0 to 1017208\n",
      "Data columns (total 9 columns):\n",
      " #   Column         Non-Null Count    Dtype         \n",
      "---  ------         --------------    -----         \n",
      " 0   Store          1017209 non-null  int64         \n",
      " 1   DayOfWeek      1017209 non-null  int64         \n",
      " 2   Date           1017209 non-null  datetime64[ns]\n",
      " 3   Sales          1017209 non-null  int64         \n",
      " 4   Customers      1017209 non-null  int64         \n",
      " 5   Open           1017209 non-null  int64         \n",
      " 6   Promo          1017209 non-null  int64         \n",
      " 7   StateHoliday   1017209 non-null  object        \n",
      " 8   SchoolHoliday  1017209 non-null  int64         \n",
      "dtypes: datetime64[ns](1), int64(7), object(1)\n",
      "memory usage: 69.8+ MB\n"
     ]
    }
   ],
   "source": [
    "sales_data.info()"
   ]
  },
  {
   "cell_type": "code",
   "execution_count": null,
   "id": "eb7c7b7f",
   "metadata": {},
   "outputs": [],
   "source": []
  }
 ],
 "metadata": {
  "kernelspec": {
   "display_name": "Python 3 (ipykernel)",
   "language": "python",
   "name": "python3"
  },
  "language_info": {
   "codemirror_mode": {
    "name": "ipython",
    "version": 3
   },
   "file_extension": ".py",
   "mimetype": "text/x-python",
   "name": "python",
   "nbconvert_exporter": "python",
   "pygments_lexer": "ipython3",
   "version": "3.10.7"
  }
 },
 "nbformat": 4,
 "nbformat_minor": 5
}
